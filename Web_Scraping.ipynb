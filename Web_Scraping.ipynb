{
  "nbformat": 4,
  "nbformat_minor": 0,
  "metadata": {
    "kernelspec": {
      "display_name": "Python 3.7",
      "language": "python",
      "name": "python3"
    },
    "language_info": {
      "codemirror_mode": {
        "name": "ipython",
        "version": 3
      },
      "file_extension": ".py",
      "mimetype": "text/x-python",
      "name": "python",
      "nbconvert_exporter": "python",
      "pygments_lexer": "ipython3",
      "version": "3.7.10"
    },
    "colab": {
      "name": "Web Scraping.ipynb",
      "provenance": [],
      "include_colab_link": true
    }
  },
  "cells": [
    {
      "cell_type": "markdown",
      "metadata": {
        "id": "view-in-github",
        "colab_type": "text"
      },
      "source": [
        "<a href=\"https://colab.research.google.com/github/Antonio24ch/Proyecto-_Final-_de-_Analitica-_de-_Datos/blob/main/Web_Scraping.ipynb\" target=\"_parent\"><img src=\"https://colab.research.google.com/assets/colab-badge.svg\" alt=\"Open In Colab\"/></a>"
      ]
    },
    {
      "cell_type": "markdown",
      "metadata": {
        "id": "2F2GuL9JVN97"
      },
      "source": [
        "<center>\n",
        "    <img src=\"https://gitlab.com/ibm/skills-network/courses/placeholder101/-/raw/master/labs/module%201/images/IDSNlogo.png\" width=\"300\" alt=\"cognitiveclass.ai logo\"  />\n",
        "</center>\n"
      ]
    },
    {
      "cell_type": "markdown",
      "metadata": {
        "id": "WSf04vmHVN-I"
      },
      "source": [
        "# **Laboratorio de Web Scraping**\n"
      ]
    },
    {
      "cell_type": "markdown",
      "metadata": {
        "id": "d5DshyCyVN-J"
      },
      "source": [
        "Tiempo Estimado Requerido: **30** minutos\n"
      ]
    },
    {
      "cell_type": "markdown",
      "metadata": {
        "id": "zjUpP19pVN-K"
      },
      "source": [
        "## Objetivos\n"
      ]
    },
    {
      "cell_type": "markdown",
      "metadata": {
        "id": "TCiKb6voVN-L"
      },
      "source": [
        "Al terminar este laboratorio será capaz de:\n"
      ]
    },
    {
      "cell_type": "markdown",
      "metadata": {
        "id": "-dbljJ4vVN-M"
      },
      "source": [
        "-   Descargar una pagina web utilizando el modulo Requests\n",
        "-   Extraer todos los enlaces de una pagina web\n",
        "-   Extraer todas las imágenes del URL de una pagina web\n",
        "-   Extraer datos de tablas HTML\n"
      ]
    },
    {
      "cell_type": "markdown",
      "metadata": {
        "id": "UqpctqnHVN-O"
      },
      "source": [
        "## Scrape [www.ibm.com](http://www.ibm.com?cm_mmc=Email_Newsletter-_-Developer_Ed%2BTech-_-WW_WW-_-SkillsNetwork-Courses-IBM-DA0321EN-SkillsNetwork-21426264&cm_mmca1=000026UJ&cm_mmca2=10006555&cm_mmca3=M12345678&cvosrc=email.Newsletter.M12345678&cvo_campaign=000026UJ&cm_mmc=Email_Newsletter-_-Developer_Ed%2BTech-_-WW_WW-_-SkillsNetwork-Courses-IBM-DA0321EN-SkillsNetwork-21426264&cm_mmca1=000026UJ&cm_mmca2=10006555&cm_mmca3=M12345678&cvosrc=email.Newsletter.M12345678&cvo_campaign=000026UJ)\n"
      ]
    },
    {
      "cell_type": "markdown",
      "metadata": {
        "id": "akOt3zthVN-R"
      },
      "source": [
        "Importar los módulos y funciones requeridos\n"
      ]
    },
    {
      "cell_type": "code",
      "metadata": {
        "id": "zfSjsETbVN-Y"
      },
      "source": [
        "from bs4 import BeautifulSoup # este módulo ayuda con el proceso de web scrapping.\n",
        "import requests  # este módulo ayuda con la descarga de la página web"
      ],
      "execution_count": 1,
      "outputs": []
    },
    {
      "cell_type": "markdown",
      "metadata": {
        "id": "xYC_dqoxVN-a"
      },
      "source": [
        "Descargar los contenidos de la página web\n"
      ]
    },
    {
      "cell_type": "code",
      "metadata": {
        "id": "m96wFbmvVN-b"
      },
      "source": [
        "url = \"http://www.ibm.com\""
      ],
      "execution_count": 2,
      "outputs": []
    },
    {
      "cell_type": "code",
      "metadata": {
        "id": "QKsS5myhVN-c"
      },
      "source": [
        "# obtener los contenidos de la pagina web en formato texto y almacenarlo en una variable llamada data\n",
        "data  = requests.get(url).text "
      ],
      "execution_count": 3,
      "outputs": []
    },
    {
      "cell_type": "markdown",
      "metadata": {
        "id": "g2P1lMEZVN-d"
      },
      "source": [
        "Crear un objeto soup (sopa) mediante la clase BeautifulSoup\n"
      ]
    },
    {
      "cell_type": "code",
      "metadata": {
        "id": "dtXU04gEVN-f"
      },
      "source": [
        "soup = BeautifulSoup(data,\"html5lib\")  # Crear un objeto soup usando la variable 'data'"
      ],
      "execution_count": 4,
      "outputs": []
    },
    {
      "cell_type": "markdown",
      "metadata": {
        "id": "Lm8KzEEEVN-i"
      },
      "source": [
        "Extraer todos los links\n"
      ]
    },
    {
      "cell_type": "code",
      "metadata": {
        "colab": {
          "base_uri": "https://localhost:8080/"
        },
        "id": "5gEAjcm1VN-i",
        "outputId": "7a57bdfb-4938-4345-bfc9-b3bfbab165ac"
      },
      "source": [
        "for link in soup.find_all('a'):  # en html un enlace se representa con la etiqueta <a>\n",
        "    print(link.get('href'))"
      ],
      "execution_count": 5,
      "outputs": [
        {
          "output_type": "stream",
          "text": [
            "https://www.ibm.com/tw/zh\n",
            "https://www.ibm.com/sitemap/tw/zh\n",
            "https://reg.tools.ibm.com/flow/ibm/think21/reg?lnk=STW_TW_HP_L1_BTN&psrc=NONE&pexp=DEF&lnk2=event_Think2021\n",
            "https://event.on24.com/eventRegistration/EventLobbyServlet?target=reg20.jsp&referrer=&eventid=3242466&sessionid=1&key=136A134E93E7F8FCF11B8631546F3264&regTag=&V2=false&sourcepage=register\n",
            "/tw-zh/it-infrastructure/learn/storage-roadshow-taibei\n",
            "https://www.ibm.com/tw-zh/cloud/satellite?source=TW-HP&lnk=STW_TW_HP_F2_&psrc=NONE&pexp=DEF&lnk2=goto_CloudSat\n",
            "https://www.ibm.com/tw-zh/it-infrastructure/storage/flash?lnk=STW_TW_HP_F3_&psrc=NONE&pexp=DEF&lnk2=goto_FlashStorage\n",
            "/tw-zh/it-infrastructure/storage\n",
            "/tw-zh/cloud/hybrid\n",
            "https://www.ibm.com/tw-zh/products?lnk=STW_TW_HP_SWT5_BLK&psrc=NONE&pexp=DEF&lnk2=trial_PHP\n",
            "https://www.ibm.com/tw-zh/analytics/spss-trials?lnk=STW_TW_HP_SWT1_&psrc=NONE&pexp=DEF&lnk2=goto_SPSSstat\n",
            "https://www.ibm.com/tw-zh/cloud/free?lnk=STW_TW_HP_SWT1_BLK&psrc=NONE&pexp=DEF&lnk2=trial_Cloud\n",
            "https://www.ibm.com/tw-zh/products/cloud-pak-for-data?lnk=STW_TW_HP_SWT2_BLK&psrc=NONE&pexp=DEF&lnk2=trial_CloudPakData\n",
            "https://www.ibm.com/tw-zh/cloud/watson-assistant?lnk=STW_TW_HP_SWT3_BLK&psrc=NONE&pexp=DEF&lnk2=trial_WatAssist\n",
            "https://www.ibm.com/tw-zh/security/identity-access-management/cloud-identity?lnk=STW_TW_HP_SWT4_BLK&psrc=NONE&pexp=DEF&lnk2=trial_VerifyIAM\n",
            "https://developer.ibm.com/depmodels/cloud/?lnk=hpv18ct16\n",
            "https://developer.ibm.com/technologies/artificial-intelligence?lnk=hpv18ct19\n",
            "https://www.ibm.com/demos/?lnk=hpv18ct12\n",
            "https://developer.ibm.com/?lnk=hpv18ct9\n",
            "https://www.ibm.com/docs/en/?lnk=hpv18ct14\n",
            "https://www.redbooks.ibm.com/?lnk=ushpv18ct10\n",
            "https://www.ibm.com/support/home/?lnk=hpv18ct11\n",
            "https://www.ibm.com/training/?lnk=hpv18ct15\n",
            "/cloud/hybrid?lnk=hpv18pt14\n",
            "/cloud/learn/public-cloud?lnk=hpv18ct1\n",
            "/watson?lnk=ushpv18pt17\n",
            "/garage?lnk=hpv18pt13\n",
            "/blockchain?lnk=hpv18pt4\n",
            "https://www.ibm.com/thought-leadership/institute-business-value/?lnk=hpv18pt12\n",
            "/analytics?lnk=hpv18pt1\n",
            "/security?lnk=hpv18pt9\n",
            "/financing?lnk=hpv18pt3\n",
            "https://www.ibm.com/quantum-computing?lnk=hpv18pt16\n",
            "/cloud/hybrid?lnk=hpv18ct20\n",
            "/cloud/learn/public-cloud?lnk=hpv18ct1\n",
            "/cloud/redhat?lnk=hpv18ct13\n",
            "/watson?lnk=hpv18ct3\n",
            "https://www.ibm.com/quantum-computing?lnk=hpv18ct18\n",
            "/cloud/learn/kubernetes?lnk=hpv18ct8\n",
            "/products/spss-statistics?lnk=ushpv18ct7\n",
            "/blockchain?lnk=hpv18ct1\n",
            "https://www.ibm.com/employment?lnk=hpv18ct2\n",
            "https://www.ibm.com/case-studies/coca-cola-european-partners/?lnk=hpv18cs1\n",
            "/case-studies/search?lnk=hpv18cs2\n",
            "#\n"
          ],
          "name": "stdout"
        }
      ]
    },
    {
      "cell_type": "markdown",
      "metadata": {
        "id": "XzBo6w5XVN-o"
      },
      "source": [
        "Extraer todas las imágenes\n"
      ]
    },
    {
      "cell_type": "code",
      "metadata": {
        "colab": {
          "base_uri": "https://localhost:8080/"
        },
        "id": "A0qV7ym5VN-o",
        "outputId": "38023568-be65-48a8-94fe-fa39ce89ca0e"
      },
      "source": [
        "for link in soup.find_all('img'):# en html una imagen se representa con la etiqueta <img>\n",
        "    print(link.get('src'))"
      ],
      "execution_count": 6,
      "outputs": [
        {
          "output_type": "stream",
          "text": [
            "//1.cms.s81c.com/sites/default/files/2021-05-27/gif-master-380X214-updated.gif\n",
            "//1.cms.s81c.com/sites/default/files/2021-04-13/tw-zh_hp_inside-ibm_card_210413.jpg\n",
            "//1.cms.s81c.com/sites/default/files/2021-04-09/20210209-flash-system-5200-storage-25719-444x320_0.jpg\n",
            "//1.cms.s81c.com/sites/default/files/2021-04-09/homepage-icy.jpg\n",
            "//1.cms.s81c.com/sites/default/files/2021-04-09/02dfdf0d-305a-4d56-bc959b60ad35f0c9.jpg\n",
            "//1.cms.s81c.com/sites/default/files/2021-04-26/Original-SPSS-Statistics-23108-700x420.png\n",
            "//1.cms.s81c.com/sites/default/files/2021-02-17/ibm-cloud-trial.png\n",
            "//1.cms.s81c.com/sites/default/files/2021-02-17/cloud-pak-for-data-trial.png\n",
            "//1.cms.s81c.com/sites/default/files/2021-02-17/watson-assistant-trial_0.png\n",
            "//1.cms.s81c.com/sites/default/files/2021-02-19/security-verify-trial.png\n"
          ],
          "name": "stdout"
        }
      ]
    },
    {
      "cell_type": "markdown",
      "metadata": {
        "id": "ZYadTHiaVN-p"
      },
      "source": [
        "## Extraer los datos de las tablas en html\n"
      ]
    },
    {
      "cell_type": "code",
      "metadata": {
        "id": "bjb7XcoPVN-q"
      },
      "source": [
        "#El siguiente URL contiene una tabla html con datos acerca de colores y códigos de colores"
      ],
      "execution_count": 7,
      "outputs": []
    },
    {
      "cell_type": "code",
      "metadata": {
        "id": "B-TmGDl1VN-r"
      },
      "source": [
        "url = \"https://cf-courses-data.s3.us.cloud-object-storage.appdomain.cloud/IBM-DA0321EN-SkillsNetwork/labs/datasets/HTMLColorCodes.html\""
      ],
      "execution_count": 8,
      "outputs": []
    },
    {
      "cell_type": "markdown",
      "metadata": {
        "id": "CmC6aYoLVN-s"
      },
      "source": [
        "Antes de continuar la extracción de información (scraping) en una pagina web, necesitará examinar los contenidos, y la forma en que los datos están organizados. Abra el URL de arriba en su explorador y revise cuantas filas y columnas tiene la tabla de colores.\n"
      ]
    },
    {
      "cell_type": "code",
      "metadata": {
        "id": "ulOwi0xmVN-t"
      },
      "source": [
        "# obtener los contenidos de la pagina web en formato texto y almacenarlo en una variable llamada data\n",
        "data  = requests.get(url).text"
      ],
      "execution_count": 9,
      "outputs": []
    },
    {
      "cell_type": "code",
      "metadata": {
        "id": "M8q0YLIrVN-u"
      },
      "source": [
        "soup = BeautifulSoup(data,\"html5lib\")"
      ],
      "execution_count": 10,
      "outputs": []
    },
    {
      "cell_type": "code",
      "metadata": {
        "id": "f2aL4j7VVN-v"
      },
      "source": [
        "#encontrar la tabla html en la página web\n",
        "table = soup.find('table') # en html una tabla se representa con la etiqueta <table>"
      ],
      "execution_count": 11,
      "outputs": []
    },
    {
      "cell_type": "code",
      "metadata": {
        "colab": {
          "base_uri": "https://localhost:8080/"
        },
        "id": "FboKedMBVN-w",
        "outputId": "e9a3688d-3913-4af5-e18d-285e351467c4"
      },
      "source": [
        "#obtener todas las filas de la tabla\n",
        "for row in table.find_all('tr'): # en html la fila de una tabla se presenta con la etiqueta <tr>\n",
        "    # obtener todas las columnas en cada fila.\n",
        "    cols = row.find_all('td') # en html una columna se representa con la etiqueta <td>\n",
        "    color_name = cols[2].getText() # almacenar el valor en la columna 3 como color_name\n",
        "    color_code = cols[3].getText() # almacenar el valor en la columna 4 como color_code\n",
        "    print(\"{}--->{}\".format(color_name,color_code))"
      ],
      "execution_count": 12,
      "outputs": [
        {
          "output_type": "stream",
          "text": [
            "Color Name--->Hex Code#RRGGBB\n",
            "lightsalmon--->#FFA07A\n",
            "salmon--->#FA8072\n",
            "darksalmon--->#E9967A\n",
            "lightcoral--->#F08080\n",
            "coral--->#FF7F50\n",
            "tomato--->#FF6347\n",
            "orangered--->#FF4500\n",
            "gold--->#FFD700\n",
            "orange--->#FFA500\n",
            "darkorange--->#FF8C00\n",
            "lightyellow--->#FFFFE0\n",
            "lemonchiffon--->#FFFACD\n",
            "papayawhip--->#FFEFD5\n",
            "moccasin--->#FFE4B5\n",
            "peachpuff--->#FFDAB9\n",
            "palegoldenrod--->#EEE8AA\n",
            "khaki--->#F0E68C\n",
            "darkkhaki--->#BDB76B\n",
            "yellow--->#FFFF00\n",
            "lawngreen--->#7CFC00\n",
            "chartreuse--->#7FFF00\n",
            "limegreen--->#32CD32\n",
            "lime--->#00FF00\n",
            "forestgreen--->#228B22\n",
            "green--->#008000\n",
            "powderblue--->#B0E0E6\n",
            "lightblue--->#ADD8E6\n",
            "lightskyblue--->#87CEFA\n",
            "skyblue--->#87CEEB\n",
            "deepskyblue--->#00BFFF\n",
            "lightsteelblue--->#B0C4DE\n",
            "dodgerblue--->#1E90FF\n"
          ],
          "name": "stdout"
        }
      ]
    },
    {
      "cell_type": "markdown",
      "metadata": {
        "id": "rKqhzMDQVN-x"
      },
      "source": [
        "## Autores\n"
      ]
    },
    {
      "cell_type": "markdown",
      "metadata": {
        "id": "IS7xy6ZGVN-y"
      },
      "source": [
        "Ramesh Sannareddy\n"
      ]
    },
    {
      "cell_type": "markdown",
      "metadata": {
        "id": "0UTd8eU3VN-3"
      },
      "source": [
        "### Otros Colaboradores\n"
      ]
    },
    {
      "cell_type": "markdown",
      "metadata": {
        "id": "Fc-8d70TVN-4"
      },
      "source": [
        "Rav Ahuja\n"
      ]
    },
    {
      "cell_type": "markdown",
      "metadata": {
        "id": "uHvmOG-WVN-5"
      },
      "source": [
        "## Change Log\n"
      ]
    },
    {
      "cell_type": "markdown",
      "metadata": {
        "id": "gfq9qS7hVN-5"
      },
      "source": [
        "| Date (YYYY-MM-DD) | Version | Changed By        | Change Description                |\n",
        "| ----------------- | ------- | ----------------- | --------------------------------- |\n",
        "| 2020-10-17        | 0.1     | Ramesh Sannareddy | Crear la versión inicial del lab. |\n"
      ]
    },
    {
      "cell_type": "markdown",
      "metadata": {
        "id": "f9k6dBTZVN-8"
      },
      "source": [
        " Copyright © 2020 IBM Corporation. This notebook and its source code are released under the terms of the [MIT License](https://cognitiveclass.ai/mit-license?cm_mmc=Email_Newsletter-_-Developer_Ed%2BTech-_-WW_WW-_-SkillsNetwork-Courses-IBM-DA0321EN-SkillsNetwork-21426264&cm_mmca1=000026UJ&cm_mmca2=10006555&cm_mmca3=M12345678&cvosrc=email.Newsletter.M12345678&cvo_campaign=000026UJ&cm_mmc=Email_Newsletter-_-Developer_Ed%2BTech-_-WW_WW-_-SkillsNetwork-Courses-IBM-DA0321EN-SkillsNetwork-21426264&cm_mmca1=000026UJ&cm_mmca2=10006555&cm_mmca3=M12345678&cvosrc=email.Newsletter.M12345678&cvo_campaign=000026UJ&cm_mmc=Email_Newsletter-_-Developer_Ed%2BTech-_-WW_WW-_-SkillsNetwork-Courses-IBM-DA0321EN-SkillsNetwork-21426264&cm_mmca1=000026UJ&cm_mmca2=10006555&cm_mmca3=M12345678&cvosrc=email.Newsletter.M12345678&cvo_campaign=000026UJ&cm_mmc=Email_Newsletter-_-Developer_Ed%2BTech-_-WW_WW-_-SkillsNetwork-Courses-IBM-DA0321EN-SkillsNetwork-21426264&cm_mmca1=000026UJ&cm_mmca2=10006555&cm_mmca3=M12345678&cvosrc=email.Newsletter.M12345678&cvo_campaign=000026UJ&cm_mmc=Email_Newsletter-_-Developer_Ed%2BTech-_-WW_WW-_-SkillsNetwork-Courses-IBM-DA0121ES-Coursera-22673396&cm_mmca1=000026UJ&cm_mmca2=10006555&cm_mmca3=M12345678&cvosrc=email.Newsletter.M12345678&cvo_campaign=000026UJ&cm_mmc=Email_Newsletter-_-Developer_Ed%2BTech-_-WW_WW-_-SkillsNetwork-Courses-IBM-DA0121ES-Coursera-22673396&cm_mmca1=000026UJ&cm_mmca2=10006555&cm_mmca3=M12345678&cvosrc=email.Newsletter.M12345678&cvo_campaign=000026UJ).\n"
      ]
    }
  ]
}